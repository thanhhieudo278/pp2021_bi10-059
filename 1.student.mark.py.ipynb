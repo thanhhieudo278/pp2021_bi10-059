{
 "cells": [
  {
   "cell_type": "code",
   "execution_count": 7,
   "id": "alike-haven",
   "metadata": {},
   "outputs": [],
   "source": [
    "def NoS(nos):\n",
    "    nos = int(input('Enter number of students in a class'))\n",
    "def StInf(id,name,DoB):\n",
    "    while nos > 0:\n",
    "        print('Enter student '+ str(NoS) + ' information:')\n",
    "        id = input('Enter student id:')\n",
    "        name = input('Enter student name:')\n",
    "        DoB = input('Enter student DoB: ')\n",
    "        nos = nos-1\n",
    "\n",
    "def NoC(noc):\n",
    "    noc = input('Enter number of courses: ')\n",
    "def CInf(Cid,Cname):\n",
    "    while noc > 0: \n",
    "        print('Enter course '+ str(noc) + ' information:')\n",
    "        Cid = input('Enter course id: ')\n",
    "        Cname = input('Enter course name: ')\n",
    "        noc = noc-1\n",
    "\n"
   ]
  },
  {
   "cell_type": "code",
   "execution_count": null,
   "id": "nervous-taxation",
   "metadata": {
    "scrolled": false
   },
   "outputs": [],
   "source": [
    "nos = int(input('Enter number of students in a class'))\n",
    "while nos > 0:\n",
    "        print('Enter student '+ str(NoS) + ' information:')\n",
    "        id = input('Enter student id:')\n",
    "        name = input('Enter student name:')\n",
    "        DoB = input('Enter student DoB: ')\n",
    "        nos = nos-1\n",
    "noc = input('Enter number of courses: ')\n",
    "while noc > 0: \n",
    "        print('Enter course '+ str(noc) + ' information:')\n",
    "        Cid = input('Enter course id: ')\n",
    "        Cname = input('Enter course name: ')\n",
    "        noc = noc-1"
   ]
  },
  {
   "cell_type": "code",
   "execution_count": null,
   "id": "sorted-reply",
   "metadata": {},
   "outputs": [],
   "source": [
    "\n"
   ]
  },
  {
   "cell_type": "code",
   "execution_count": null,
   "id": "split-breast",
   "metadata": {},
   "outputs": [],
   "source": []
  },
  {
   "cell_type": "code",
   "execution_count": null,
   "id": "matched-aspect",
   "metadata": {},
   "outputs": [],
   "source": []
  },
  {
   "cell_type": "code",
   "execution_count": null,
   "id": "august-standard",
   "metadata": {},
   "outputs": [],
   "source": []
  }
 ],
 "metadata": {
  "kernelspec": {
   "display_name": "Python 3",
   "language": "python",
   "name": "python3"
  },
  "language_info": {
   "codemirror_mode": {
    "name": "ipython",
    "version": 3
   },
   "file_extension": ".py",
   "mimetype": "text/x-python",
   "name": "python",
   "nbconvert_exporter": "python",
   "pygments_lexer": "ipython3",
   "version": "3.8.5"
  }
 },
 "nbformat": 4,
 "nbformat_minor": 5
}
