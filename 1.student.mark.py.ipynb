{
 "cells": [
  {
   "cell_type": "code",
   "execution_count": 4,
   "id": "alike-haven",
   "metadata": {},
   "outputs": [
    {
     "name": "stdout",
     "output_type": "stream",
     "text": [
      "Number of Students: 1\n",
      "Enter Student Information: \n",
      "ID: 1\n",
      "Name : h\n",
      "DoB: 27\n",
      "number of Course: 1\n",
      "Enter Course Information: \n",
      "ID: 1\n",
      "Name : toan\n",
      "All Students:\n",
      "id:1,name: h,DoB: 27\n",
      "All Courses:\n",
      "id:1,name: toan\n"
     ]
    }
   ],
   "source": [
    "def NoS():\n",
    "    NoS = int(input(\"Number of Students: \"))\n",
    "    return NoS\n",
    "def InSt():\n",
    "    print(\"Enter Student Information: \")\n",
    "    id = input(\"ID: \")\n",
    "    name = input(\"Name : \")\n",
    "    DoB = input(\"DoB: \")\n",
    "    A = {\"id\":id,\"name\":name,\"DoB\":DoB}\n",
    "    return A\n",
    "def St_List(Students):\n",
    "    for A in Students:\n",
    "            print(f\"id:{A['id']},name: {A['name']},DoB: {A['DoB']}\")\n",
    "            \n",
    "#main \n",
    "Students =[]\n",
    "NoS = NoS()\n",
    "for i in range (0,NoS):\n",
    "    A = InSt()\n",
    "    Students += [A]\n",
    "\n",
    "def NoC():\n",
    "    NoC = int(input(\"number of Course: \"))\n",
    "    return NoC\n",
    "def InC():\n",
    "    print(\"Enter Course Information: \")\n",
    "    id = input(\"ID: \")\n",
    "    name = input(\"Name : \")\n",
    "    B = {\"id\":id,\"name\":name}\n",
    "    return B\n",
    "def C_List(Courses):\n",
    "    for B in Courses:\n",
    "            print(f\"id:{B['id']},name: {B['name']}\")\n",
    "#main \n",
    "Courses =[]\n",
    "NoC = NoC()\n",
    "for i in range (0,NoS):\n",
    "    B = InC()\n",
    "    Courses += [B]\n",
    "    \n",
    "print(\"All Students:\")\n",
    "St_List(Students)\n",
    "print(\"All Courses:\")\n",
    "C_List(Courses)\n"
   ]
  },
  {
   "cell_type": "code",
   "execution_count": null,
   "id": "nervous-taxation",
   "metadata": {
    "scrolled": false
   },
   "outputs": [],
   "source": []
  },
  {
   "cell_type": "code",
   "execution_count": null,
   "id": "sorted-reply",
   "metadata": {},
   "outputs": [],
   "source": [
    "\n"
   ]
  },
  {
   "cell_type": "code",
   "execution_count": null,
   "id": "split-breast",
   "metadata": {},
   "outputs": [],
   "source": []
  },
  {
   "cell_type": "code",
   "execution_count": null,
   "id": "matched-aspect",
   "metadata": {},
   "outputs": [],
   "source": []
  },
  {
   "cell_type": "code",
   "execution_count": null,
   "id": "august-standard",
   "metadata": {},
   "outputs": [],
   "source": []
  }
 ],
 "metadata": {
  "kernelspec": {
   "display_name": "Python 3",
   "language": "python",
   "name": "python3"
  },
  "language_info": {
   "codemirror_mode": {
    "name": "ipython",
    "version": 3
   },
   "file_extension": ".py",
   "mimetype": "text/x-python",
   "name": "python",
   "nbconvert_exporter": "python",
   "pygments_lexer": "ipython3",
   "version": "3.8.5"
  }
 },
 "nbformat": 4,
 "nbformat_minor": 5
}
